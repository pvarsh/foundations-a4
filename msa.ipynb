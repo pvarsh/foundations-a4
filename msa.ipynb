{
 "metadata": {
  "name": "",
  "signature": "sha256:5e86d5ae3b62d2eca0de756251be15f4fcb14d31d03f52d16d4c1f927e32adb4"
 },
 "nbformat": 3,
 "nbformat_minor": 0,
 "worksheets": [
  {
   "cells": [
    {
     "cell_type": "code",
     "collapsed": false,
     "input": [
      "import os\n",
      "import csv\n",
      "import numpy as np\n",
      "import pandas as pd\n",
      "import matplotlib.pyplot as plt\n",
      "import statsmodels.api as sm\n",
      "\n",
      "%matplotlib inline"
     ],
     "language": "python",
     "metadata": {},
     "outputs": [],
     "prompt_number": 1
    },
    {
     "cell_type": "heading",
     "level": 6,
     "metadata": {},
     "source": [
      "MSA and county data"
     ]
    },
    {
     "cell_type": "code",
     "collapsed": false,
     "input": [
      "# read file\n",
      "path = \"../data/MSA_County_2000\"\n",
      "print os.listdir(path)\n",
      "\n",
      "fname = path + \"/\" + \"tab01.csv\"\n",
      "with open(fname, 'r') as f:\n",
      "    MSAdf = pd.read_csv(f, header = 0, dtype = str)\n",
      "\n",
      "# remove empty rows\n",
      "MSAdf = MSAdf[pd.notnull(MSAdf.iloc[:, 0])]\n",
      "\n",
      "# fix column names\n",
      "columns = [column for column in MSAdf.columns]\n",
      "columns[5] = 'Area Name'\n",
      "MSAdf.columns = columns\n",
      "print MSAdf.columns\n",
      "\n",
      "# convert population to integer\n",
      "MSAdf['Census Population'] = MSAdf['Census Population'].str.replace(',', '').astype(int)\n",
      "\n",
      "# copy MSA and County codes to separate table\n",
      "MSAtoCounty = MSAdf[['MSA/ CMSA Code', 'FIPS State/ County Code']]\n",
      "grouped = MSAtoCounty.groupby('FIPS State/ County Code')\n",
      "countyToMSA = grouped.first().sort(columns = 'MSA/ CMSA Code')\n",
      "\n",
      "# change index data type to integers (may not be necessary)\n",
      "countyToMSA.index = [int(ind) for ind in list(countyToMSA.index)]\n",
      "# converting a Series to DataFrame to use pd.merge() (not sure how to join with Series)\n",
      "countyToMSAdf = pd.DataFrame(countyToMSA)\n",
      "# converting 'FIPS' to integer\n",
      "countyToMSAdf['County_FIPS'] = countyToMSAdf.index.astype(int)\n",
      "\n",
      "# keep only lines where 'Area' ends with CMSA or MSA\n",
      "MSAs = MSAdf['Area Name'].str.extract('(?P<MSA>C?MSA$)')\n",
      "MSAdf = MSAdf[pd.notnull(MSAs)]\n",
      "# keep only MSAs and CMSAs with population over 1000\n",
      "MSAdf = MSAdf[MSAdf['Census Population'] > 100000]\n",
      "MSAdf = MSAdf[['MSA/ CMSA Code', 'Area Name', 'Census Population']]"
     ],
     "language": "python",
     "metadata": {},
     "outputs": [
      {
       "output_type": "stream",
       "stream": "stdout",
       "text": [
        "['.DS_Store', 'readme.txt', 'tab01.csv', 'tab01_original.xls']\n",
        "Index([u'MSA/ CMSA Code', u'PMSA Code', u'FIPS State/ County Code', u'Census MCD Code', u'FIPS MCD Code', u'Area Name', u'Census Population', u'Unnamed: 7', u'Change, 1990 to 2000', u'Unnamed: 9'], dtype='object')\n"
       ]
      }
     ],
     "prompt_number": 2
    },
    {
     "cell_type": "heading",
     "level": 6,
     "metadata": {},
     "source": [
      "Vulcan data"
     ]
    },
    {
     "cell_type": "code",
     "collapsed": false,
     "input": [
      "path = \"../data/State_County\"\n",
      "print os.listdir(path)"
     ],
     "language": "python",
     "metadata": {},
     "outputs": [
      {
       "ename": "OSError",
       "evalue": "[Errno 2] No such file or directory: '../data/State_County'",
       "output_type": "pyerr",
       "traceback": [
        "\u001b[0;31m---------------------------------------------------------------------------\u001b[0m\n\u001b[0;31mOSError\u001b[0m                                   Traceback (most recent call last)",
        "\u001b[0;32m<ipython-input-3-5cb9b401114a>\u001b[0m in \u001b[0;36m<module>\u001b[0;34m()\u001b[0m\n\u001b[1;32m      1\u001b[0m \u001b[0mpath\u001b[0m \u001b[0;34m=\u001b[0m \u001b[0;34m\"../data/State_County\"\u001b[0m\u001b[0;34m\u001b[0m\u001b[0m\n\u001b[0;32m----> 2\u001b[0;31m \u001b[0;32mprint\u001b[0m \u001b[0mos\u001b[0m\u001b[0;34m.\u001b[0m\u001b[0mlistdir\u001b[0m\u001b[0;34m(\u001b[0m\u001b[0mpath\u001b[0m\u001b[0;34m)\u001b[0m\u001b[0;34m\u001b[0m\u001b[0m\n\u001b[0m",
        "\u001b[0;31mOSError\u001b[0m: [Errno 2] No such file or directory: '../data/State_County'"
       ]
      }
     ],
     "prompt_number": 3
    },
    {
     "cell_type": "code",
     "collapsed": false,
     "input": [
      "fname = path + '/' + '2002_carbon_per_county.csv'\n",
      "with open(fname, 'rU') as f:\n",
      "    countyCarbon = pd.read_csv(f, header = 2)\n",
      "    \n",
      "colNames = countyCarbon.columns\n",
      "colNames\n",
      "countyCarbon.head()\n",
      "# fix leading spaces in column names (hard coding)\n",
      "#countyCarbon.columns = ['County_FIPS', 'Total Carbon', 'County Name', 'Population', 'Total Carbon Per Capita']"
     ],
     "language": "python",
     "metadata": {},
     "outputs": []
    },
    {
     "cell_type": "code",
     "collapsed": false,
     "input": [
      "fname = path + '/' + '2002_carbon_per_county_fixed_nov20.csv'\n",
      "with open(fname, 'rU') as f:\n",
      "    countyCarbon = pd.read_csv(f)\n",
      "    \n",
      "colNames = countyCarbon.columns\n",
      "print colNames\n",
      "countyCarbon.head()\n",
      "# fix leading spaces in column names (hard coding)\n",
      "countyCarbon.columns = ['County_FIPS', 'Total Carbon', 'County Name', 'Population', 'Total Carbon Per Capita']\n",
      "countyCarbon.head()"
     ],
     "language": "python",
     "metadata": {},
     "outputs": []
    },
    {
     "cell_type": "heading",
     "level": 6,
     "metadata": {},
     "source": [
      "MSA Population and Area"
     ]
    },
    {
     "cell_type": "code",
     "collapsed": false,
     "input": [
      "path = \"../data/MSA_population_data\"\n",
      "fname = path + '/' + \"R10841306_SL380_with_header.csv\"\n",
      "with open(fname, 'r') as f:\n",
      "    #reader = csv.reader(f)\n",
      "    #colLongNames = reader.next()\n",
      "    totalAreaColName = \"SE_T004_001\" # manually looked up\n",
      "    areaMSA = pd.read_csv(f, header = 1, dtype = str)\n",
      "    \n",
      "# drop unneeded columns, rename columns, convert FIPS to int\n",
      "areaMSA = areaMSA[['Geo_FIPS', totalAreaColName]]\n",
      "areaMSA.columns = ['MSA/ CMSA Code', 'TotalArea']\n",
      "print areaMSA.head()\n",
      "print areaMSA.shape\n"
     ],
     "language": "python",
     "metadata": {},
     "outputs": []
    },
    {
     "cell_type": "markdown",
     "metadata": {},
     "source": [
      "######Merging and aggregating\n",
      "We now have these dataframes:\n",
      "\n",
      "* countyCarbon: by county\n",
      "* countyArea: by county\n",
      "* countyToMSA"
     ]
    },
    {
     "cell_type": "code",
     "collapsed": false,
     "input": [
      "print countyToMSAdf.columns\n",
      "print countyCarbon.columns"
     ],
     "language": "python",
     "metadata": {},
     "outputs": []
    },
    {
     "cell_type": "code",
     "collapsed": false,
     "input": [
      "countyCarbonMSA = pd.merge(countyToMSAdf, countyCarbon, how = 'inner', on = 'County_FIPS')\n",
      "countyCarbonMSA['County_FIPS'] = countyCarbonMSA.County_FIPS.astype(str)\n",
      "countyCarbonMSA.drop('Total Carbon Per Capita', axis=1, inplace=True)"
     ],
     "language": "python",
     "metadata": {},
     "outputs": []
    },
    {
     "cell_type": "code",
     "collapsed": false,
     "input": [
      "countyCarbonMSA.head()"
     ],
     "language": "python",
     "metadata": {},
     "outputs": []
    },
    {
     "cell_type": "code",
     "collapsed": false,
     "input": [
      "grouped = countyCarbonMSA.groupby('MSA/ CMSA Code')\n",
      "carbonMSA = grouped.sum()\n",
      "carbonMSA['MSA/ CMSA Code'] = carbonMSA.index\n",
      "print carbonMSA.head()\n",
      "print carbonMSA.shape"
     ],
     "language": "python",
     "metadata": {},
     "outputs": []
    },
    {
     "cell_type": "code",
     "collapsed": false,
     "input": [
      "print carbonMSA.columns\n",
      "print MSAdf.columns\n",
      "# join\n",
      "carbonPopMSA = pd.merge(carbonMSA, MSAdf, on = 'MSA/ CMSA Code')\n",
      "statsMSA = pd.merge(carbonPopMSA, areaMSA, on = 'MSA/ CMSA Code')\n",
      "statsMSA.TotalArea = statsMSA.TotalArea.astype(float)"
     ],
     "language": "python",
     "metadata": {},
     "outputs": []
    },
    {
     "cell_type": "code",
     "collapsed": false,
     "input": [
      "statsMSA.head()\n"
     ],
     "language": "python",
     "metadata": {},
     "outputs": []
    },
    {
     "cell_type": "code",
     "collapsed": false,
     "input": [
      "statsMSA['Population Density'] = statsMSA['Population'] / statsMSA['TotalArea']\n",
      "# from million tons of carbon to tons of carbon\n",
      "statsMSA['Total Carbon Tonnes'] = statsMSA['Total Carbon'] * 1e6\n",
      "statsMSA['Carbon Per Capita'] = statsMSA['Total Carbon'] / statsMSA['Population']\n",
      "# computing logs\n"
     ],
     "language": "python",
     "metadata": {},
     "outputs": []
    },
    {
     "cell_type": "code",
     "collapsed": false,
     "input": [
      "statsMSA.head()"
     ],
     "language": "python",
     "metadata": {},
     "outputs": []
    },
    {
     "cell_type": "code",
     "collapsed": false,
     "input": [],
     "language": "python",
     "metadata": {},
     "outputs": []
    },
    {
     "cell_type": "heading",
     "level": 1,
     "metadata": {},
     "source": [
      "Plots"
     ]
    },
    {
     "cell_type": "heading",
     "level": 6,
     "metadata": {},
     "source": [
      "Total Carbon vs Population"
     ]
    },
    {
     "cell_type": "code",
     "collapsed": false,
     "input": [
      "X_0 = np.ones(statsMSA.shape[0])\n",
      "y = np.log(statsMSA['Total Carbon Tonnes'])\n",
      "X = np.column_stack((X_0, np.log(statsMSA['Population'])))\n",
      "mod1 = sm.OLS(y, X).fit()\n",
      "print mod1.params[1]\n",
      "\n",
      "fig1, ax = plt.subplots(figsize = (10, 6))\n",
      "\n",
      "\n",
      "ax.scatter(np.log(statsMSA['Census Population']), np.log(statsMSA['Total Carbon Tonnes']), color = 'dodgerblue')\n",
      "xticks = ax.get_xticks()\n",
      "\n",
      "\n",
      "# for i in range(statsMSA.shape[0]):\n",
      "#     text = statsMSA['MSA/ CMSA Code'][i]\n",
      "#     xy = (np.log(statsMSA['Census Population'])[i], np.log(statsMSA['Total Carbon Tonnes'])[i])\n",
      "#     ax.annotate(statsMSA['MSA/ CMSA Code'], xy)\n",
      "\n",
      "# \n",
      "\n",
      "\n",
      "# get xlims\n",
      "xmin, xmax = ax.get_xlim()\n",
      "\n",
      "# OLS line\n",
      "x = np.linspace(xmin, xmax, 100)\n",
      "y = mod1.params[0] + x * mod1.params[1]\n",
      "ax.plot(x, y, c = 'darkorange')\n",
      "\n",
      "# axis limits\n",
      "ax.set_xlim(xmin, xmax)\n",
      "\n",
      "# labels\n",
      "fig1.suptitle(\"Total Carbon vs Population\", fontsize = 14)\n",
      "ax.set_xlabel(\"log(Population)\")\n",
      "ax.set_ylabel(\"log total CO2\")\n",
      "\n",
      "# \n",
      "plt.show()\n",
      "\n"
     ],
     "language": "python",
     "metadata": {},
     "outputs": []
    },
    {
     "cell_type": "heading",
     "level": 6,
     "metadata": {},
     "source": [
      "Carbon Per Capita vs Population"
     ]
    },
    {
     "cell_type": "code",
     "collapsed": false,
     "input": [
      "X_0 = np.ones(statsMSA.shape[0])\n",
      "y = np.log(statsMSA['Carbon Per Capita'])\n",
      "X = np.column_stack((X_0, np.log(statsMSA['Population'])))\n",
      "mod1 = sm.OLS(y, X).fit()\n",
      "print mod1.params[1]\n",
      "\n",
      "fig1, ax = plt.subplots(figsize = (10, 6))\n",
      "\n",
      "\n",
      "ax.scatter(np.log(statsMSA['Census Population']), np.log(statsMSA['Carbon Per Capita']), color = 'dodgerblue')\n",
      "xticks = ax.get_xticks()\n",
      "\n",
      "\n",
      "# for i in range(statsMSA.shape[0]):\n",
      "#     text = statsMSA['MSA/ CMSA Code'][i]\n",
      "#     xy = (np.log(statsMSA['Census Population'])[i], np.log(statsMSA['Total Carbon Tonnes'])[i])\n",
      "#     ax.annotate(statsMSA['MSA/ CMSA Code'], xy)\n",
      "\n",
      "# get xlims\n",
      "xmin, xmax = ax.get_xlim()\n",
      "\n",
      "# OLS line\n",
      "x = np.linspace(xmin, xmax, 100)\n",
      "y = mod1.params[0] + x * mod1.params[1]\n",
      "ax.plot(x, y, c = 'darkorange')\n",
      "\n",
      "# axis limits\n",
      "ax.set_xlim(xmin, xmax)\n",
      "\n",
      "# labels\n",
      "fig1.suptitle(\"Carbon per capita vs Population\", fontsize = 14)\n",
      "ax.set_xlabel(\"log(Population)\")\n",
      "ax.set_ylabel(\"log CO2 per capita\")\n",
      "\n",
      "plt.show()\n",
      "\n"
     ],
     "language": "python",
     "metadata": {},
     "outputs": []
    },
    {
     "cell_type": "code",
     "collapsed": false,
     "input": [
      "statsMSA[(statsMSA['Census Population'] < np.exp(12)) & (statsMSA['Total Carbon Tonnes'] > np.exp(15))]"
     ],
     "language": "python",
     "metadata": {},
     "outputs": []
    },
    {
     "cell_type": "code",
     "collapsed": false,
     "input": [
      "statsMSA[statsMSA['Census Population'] > np.exp(16)]"
     ],
     "language": "python",
     "metadata": {},
     "outputs": []
    },
    {
     "cell_type": "code",
     "collapsed": false,
     "input": [
      "print statsMSA"
     ],
     "language": "python",
     "metadata": {},
     "outputs": []
    },
    {
     "cell_type": "code",
     "collapsed": false,
     "input": [],
     "language": "python",
     "metadata": {},
     "outputs": []
    },
    {
     "cell_type": "code",
     "collapsed": false,
     "input": [],
     "language": "python",
     "metadata": {},
     "outputs": []
    }
   ],
   "metadata": {}
  }
 ]
}