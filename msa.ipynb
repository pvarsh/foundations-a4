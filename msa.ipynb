{
 "metadata": {
  "name": "",
  "signature": "sha256:59ffa64b8ef9c8ac7959a69064b956e0fbba69b5d605cc17a9c2d00134cae2b0"
 },
 "nbformat": 3,
 "nbformat_minor": 0,
 "worksheets": [
  {
   "cells": [
    {
     "cell_type": "code",
     "collapsed": false,
     "input": [
      "import os\n",
      "import csv\n",
      "import numpy as np\n",
      "import pandas as pd"
     ],
     "language": "python",
     "metadata": {},
     "outputs": [],
     "prompt_number": 1
    },
    {
     "cell_type": "heading",
     "level": 6,
     "metadata": {},
     "source": [
      "MSA and county data"
     ]
    },
    {
     "cell_type": "code",
     "collapsed": false,
     "input": [
      "# read file\n",
      "path = \"../data/MSA_County_2000\"\n",
      "print os.listdir(path)\n",
      "\n",
      "fname = path + \"/\" + \"tab01.csv\"\n",
      "with open(fname, 'r') as f:\n",
      "    MSAdf = pd.read_csv(f, header = 0, dtype = str)\n",
      "\n",
      "# remove empty rows\n",
      "MSAdf = MSAdf[pd.notnull(MSAdf.iloc[:, 0])]\n",
      "\n",
      "# fix column names\n",
      "columns = [column for column in MSAdf.columns]\n",
      "columns[5] = 'Area Name'\n",
      "MSAdf.columns = columns\n",
      "print MSAdf.columns\n",
      "\n",
      "# convert population to integer\n",
      "MSAdf['Census Population'] = MSAdf['Census Population'].str.replace(',', '').astype(int)\n",
      "\n",
      "# copy MSA and County codes to separate table\n",
      "MSAtoCounty = MSAdf[['MSA/ CMSA Code', 'FIPS State/ County Code']]\n",
      "grouped = MSAtoCounty.groupby('FIPS State/ County Code')\n",
      "countyToMSA = grouped.first().sort(columns = 'MSA/ CMSA Code')\n",
      "\n",
      "# change index data type to integers (may not be necessary)\n",
      "countyToMSA.index = [int(ind) for ind in list(countyToMSA.index)]\n",
      "# converting a Series to DataFrame to use pd.merge() (not sure how to join with Series)\n",
      "countyToMSAdf = pd.DataFrame(countyToMSA)\n",
      "# converting 'FIPS' to integer\n",
      "countyToMSAdf['County_FIPS'] = countyToMSAdf.index.astype(int)\n",
      "\n",
      "# keep only lines where 'Area' ends with CMSA or MSA\n",
      "MSAs = MSAdf['Area Name'].str.extract('(?P<MSA>C?MSA$)')\n",
      "MSAdf = MSAdf[pd.notnull(MSAs)]\n",
      "# keep only MSAs and CMSAs with population over 1000\n",
      "MSAdf = MSAdf[MSAdf['Census Population'] > 100000]\n",
      "MSAdf = MSAdf[['MSA/ CMSA Code', 'Area Name', 'Census Population']]"
     ],
     "language": "python",
     "metadata": {},
     "outputs": [
      {
       "output_type": "stream",
       "stream": "stdout",
       "text": [
        "['.DS_Store', 'countyCO2_2000_extracted.xlsx', 'readme.txt', 'tab01.csv', 'tab01_original.xls']\n",
        "Index([u'MSA/ CMSA Code', u'PMSA Code', u'FIPS State/ County Code', u'Census MCD Code', u'FIPS MCD Code', u'Area Name', u'Census Population'], dtype='object')\n"
       ]
      }
     ],
     "prompt_number": 2
    },
    {
     "cell_type": "heading",
     "level": 6,
     "metadata": {},
     "source": [
      "Vulcan data"
     ]
    },
    {
     "cell_type": "code",
     "collapsed": false,
     "input": [
      "path = \"../data/State_County\"\n",
      "print os.listdir(path)"
     ],
     "language": "python",
     "metadata": {},
     "outputs": [
      {
       "output_type": "stream",
       "stream": "stdout",
       "text": [
        "['.DS_Store', '2002_carbon_per_county.csv', '2002_carbon_per_county_resaved.csv', 'CountiesBySector.v2.2.web.xls', 'CountiesBySector.v2.2.web.xlsx', 'readme.txt', 'StatesByMaterial.v2.2.web.xls', 'StatesBySector.v2.2.web.xls']\n"
       ]
      }
     ],
     "prompt_number": 10
    },
    {
     "cell_type": "code",
     "collapsed": false,
     "input": [
      "fname = path + '/' + '2002_carbon_per_county.csv'\n",
      "with open(fname, 'rU') as f:\n",
      "    countyCarbon = pd.read_csv(f, header = 2)\n",
      "    \n",
      "colNames = countyCarbon.columns\n",
      "colNames\n",
      "countyCarbon.head()\n",
      "# fix leading spaces in column names (hard coding)\n",
      "#countyCarbon.columns = ['County_FIPS', 'Total Carbon', 'County Name', 'Population', 'Total Carbon Per Capita']"
     ],
     "language": "python",
     "metadata": {},
     "outputs": [
      {
       "html": [
        "<div style=\"max-height:1000px;max-width:1500px;overflow:auto;\">\n",
        "<table border=\"1\" class=\"dataframe\">\n",
        "  <thead>\n",
        "    <tr style=\"text-align: right;\">\n",
        "      <th></th>\n",
        "      <th> FIPS</th>\n",
        "      <th> Total</th>\n",
        "      <th>County</th>\n",
        "      <th>Pop 2000</th>\n",
        "      <th>Total Per Capita</th>\n",
        "    </tr>\n",
        "  </thead>\n",
        "  <tbody>\n",
        "    <tr>\n",
        "      <th>0</th>\n",
        "      <td> 1001</td>\n",
        "      <td>  43722.86583</td>\n",
        "      <td> Autauga County</td>\n",
        "      <td>  43671</td>\n",
        "      <td> 5.865829</td>\n",
        "    </tr>\n",
        "    <tr>\n",
        "      <th>1</th>\n",
        "      <td> 1003</td>\n",
        "      <td> 140420.20500</td>\n",
        "      <td> Baldwin County</td>\n",
        "      <td> 140415</td>\n",
        "      <td> 3.205008</td>\n",
        "    </tr>\n",
        "    <tr>\n",
        "      <th>2</th>\n",
        "      <td> 1005</td>\n",
        "      <td>  29043.42208</td>\n",
        "      <td> Barbour County</td>\n",
        "      <td>  29038</td>\n",
        "      <td> 3.422079</td>\n",
        "    </tr>\n",
        "    <tr>\n",
        "      <th>3</th>\n",
        "      <td> 1007</td>\n",
        "      <td>  20830.20614</td>\n",
        "      <td>    Bibb County</td>\n",
        "      <td>  20826</td>\n",
        "      <td> 2.206140</td>\n",
        "    </tr>\n",
        "    <tr>\n",
        "      <th>4</th>\n",
        "      <td> 1009</td>\n",
        "      <td>  51028.24946</td>\n",
        "      <td>  Blount County</td>\n",
        "      <td>  51024</td>\n",
        "      <td> 2.249456</td>\n",
        "    </tr>\n",
        "  </tbody>\n",
        "</table>\n",
        "</div>"
       ],
       "metadata": {},
       "output_type": "pyout",
       "prompt_number": 13,
       "text": [
        "    FIPS         Total          County  Pop 2000  Total Per Capita\n",
        "0   1001   43722.86583  Autauga County     43671          5.865829\n",
        "1   1003  140420.20500  Baldwin County    140415          3.205008\n",
        "2   1005   29043.42208  Barbour County     29038          3.422079\n",
        "3   1007   20830.20614     Bibb County     20826          2.206140\n",
        "4   1009   51028.24946   Blount County     51024          2.249456"
       ]
      }
     ],
     "prompt_number": 13
    },
    {
     "cell_type": "heading",
     "level": 6,
     "metadata": {},
     "source": [
      "MSA Population and Area"
     ]
    },
    {
     "cell_type": "code",
     "collapsed": false,
     "input": [
      "path = \"../data/MSA_population_data\"\n",
      "fname = path + '/' + \"R10841306_SL380_with_header.csv\"\n",
      "with open(fname, 'r') as f:\n",
      "    #reader = csv.reader(f)\n",
      "    #colLongNames = reader.next()\n",
      "    totalAreaColName = \"SE_T004_001\" # manually looked up\n",
      "    areaMSA = pd.read_csv(f, header = 1, dtype = str)\n",
      "    \n",
      "# drop unneeded columns, rename columns, convert FIPS to int\n",
      "areaMSA = areaMSA[['Geo_FIPS', totalAreaColName]]\n",
      "areaMSA.columns = ['MSA/ CMSA Code', 'TotalArea']\n",
      "print areaMSA.head()\n",
      "print areaMSA.shape\n"
     ],
     "language": "python",
     "metadata": {},
     "outputs": [
      {
       "output_type": "stream",
       "stream": "stdout",
       "text": [
        "  MSA/ CMSA Code TotalArea\n",
        "0           0040  919.2518\n",
        "1           0060  171.3993\n",
        "2           0120  696.6477\n",
        "3           0160  3288.616\n",
        "4           0200  5951.181\n",
        "(280, 2)\n"
       ]
      }
     ],
     "prompt_number": 5
    },
    {
     "cell_type": "markdown",
     "metadata": {},
     "source": [
      "######Merging and aggregating\n",
      "We now have these dataframes:\n",
      "\n",
      "* countyCarbon: by county\n",
      "* countyArea: by county\n",
      "* countyToMSA"
     ]
    },
    {
     "cell_type": "code",
     "collapsed": false,
     "input": [
      "print countyToMSAdf.columns\n",
      "print countyCarbon.columns"
     ],
     "language": "python",
     "metadata": {},
     "outputs": [
      {
       "output_type": "stream",
       "stream": "stdout",
       "text": [
        "Index([u'MSA/ CMSA Code', u'County_FIPS'], dtype='object')\n",
        "Index([u'County_FIPS', u'Total Carbon', u'County Name', u'Population', u'Total Carbon Per Capita'], dtype='object')\n"
       ]
      }
     ],
     "prompt_number": 6
    },
    {
     "cell_type": "code",
     "collapsed": false,
     "input": [
      "countyCarbonMSA = pd.merge(countyToMSAdf, countyCarbon, how = 'inner', on = 'County_FIPS')\n",
      "countyCarbonMSA['County_FIPS'] = countyCarbonMSA.County_FIPS.astype(str)\n",
      "countyCarbonMSA.drop('Total Carbon Per Capita', axis=1, inplace=True)"
     ],
     "language": "python",
     "metadata": {},
     "outputs": [],
     "prompt_number": 7
    },
    {
     "cell_type": "code",
     "collapsed": false,
     "input": [
      "countyCarbonMSA.head()"
     ],
     "language": "python",
     "metadata": {},
     "outputs": [
      {
       "html": [
        "<div style=\"max-height:1000px;max-width:1500px;overflow:auto;\">\n",
        "<table border=\"1\" class=\"dataframe\">\n",
        "  <thead>\n",
        "    <tr style=\"text-align: right;\">\n",
        "      <th></th>\n",
        "      <th>MSA/ CMSA Code</th>\n",
        "      <th>County_FIPS</th>\n",
        "      <th>Total Carbon</th>\n",
        "      <th>County Name</th>\n",
        "      <th>Population</th>\n",
        "    </tr>\n",
        "  </thead>\n",
        "  <tbody>\n",
        "    <tr>\n",
        "      <th>0</th>\n",
        "      <td> 0040</td>\n",
        "      <td> 48441</td>\n",
        "      <td> 126560.02280</td>\n",
        "      <td>      Taylor County</td>\n",
        "      <td> 126555</td>\n",
        "    </tr>\n",
        "    <tr>\n",
        "      <th>1</th>\n",
        "      <td> 0120</td>\n",
        "      <td> 13095</td>\n",
        "      <td>  96075.39746</td>\n",
        "      <td>   Dougherty County</td>\n",
        "      <td>  96065</td>\n",
        "    </tr>\n",
        "    <tr>\n",
        "      <th>2</th>\n",
        "      <td> 0120</td>\n",
        "      <td> 13177</td>\n",
        "      <td>  24760.71613</td>\n",
        "      <td>         Lee County</td>\n",
        "      <td>  24757</td>\n",
        "    </tr>\n",
        "    <tr>\n",
        "      <th>3</th>\n",
        "      <td> 0160</td>\n",
        "      <td> 36093</td>\n",
        "      <td> 146559.73910</td>\n",
        "      <td> Schenectady County</td>\n",
        "      <td> 146555</td>\n",
        "    </tr>\n",
        "    <tr>\n",
        "      <th>4</th>\n",
        "      <td> 0160</td>\n",
        "      <td> 36095</td>\n",
        "      <td>  31587.39609</td>\n",
        "      <td>   Schoharie County</td>\n",
        "      <td>  31582</td>\n",
        "    </tr>\n",
        "  </tbody>\n",
        "</table>\n",
        "</div>"
       ],
       "metadata": {},
       "output_type": "pyout",
       "prompt_number": 8,
       "text": [
        "  MSA/ CMSA Code County_FIPS  Total Carbon         County Name  Population\n",
        "0           0040       48441  126560.02280       Taylor County      126555\n",
        "1           0120       13095   96075.39746    Dougherty County       96065\n",
        "2           0120       13177   24760.71613          Lee County       24757\n",
        "3           0160       36093  146559.73910  Schenectady County      146555\n",
        "4           0160       36095   31587.39609    Schoharie County       31582"
       ]
      }
     ],
     "prompt_number": 8
    },
    {
     "cell_type": "code",
     "collapsed": false,
     "input": [
      "grouped = countyCarbonMSA.groupby('MSA/ CMSA Code')\n",
      "carbonMSA = grouped.sum()\n",
      "carbonMSA['MSA/ CMSA Code'] = carbonMSA.index\n",
      "print carbonMSA.head()\n",
      "print carbonMSA.shape"
     ],
     "language": "python",
     "metadata": {},
     "outputs": [
      {
       "output_type": "stream",
       "stream": "stdout",
       "text": [
        "                Total Carbon  Population MSA/ CMSA Code\n",
        "MSA/ CMSA Code                                         \n",
        "0040            126560.02280      126555           0040\n",
        "0120            120836.11359      120822           0120\n",
        "0160            875615.03129      875583           0160\n",
        "0200            712752.50254      712738           0200\n",
        "0220            126350.35660      126337           0220\n",
        "(276, 3)\n"
       ]
      }
     ],
     "prompt_number": 9
    },
    {
     "cell_type": "code",
     "collapsed": false,
     "input": [
      "print carbonMSA.columns\n",
      "print MSAdf.columns\n",
      "# join\n",
      "carbonPopMSA = pd.merge(carbonMSA, MSAdf, on = 'MSA/ CMSA Code')\n",
      "statsMSA = pd.merge(carbonPopMSA, areaMSA, on = 'MSA/ CMSA Code')\n",
      "statsMSA.TotalArea = statsMSA.TotalArea.astype(float)"
     ],
     "language": "python",
     "metadata": {},
     "outputs": [
      {
       "output_type": "stream",
       "stream": "stdout",
       "text": [
        "Index([u'Total Carbon', u'Population', u'MSA/ CMSA Code'], dtype='object')\n",
        "Index([u'MSA/ CMSA Code', u'Area Name', u'Census Population'], dtype='object')\n"
       ]
      }
     ],
     "prompt_number": 10
    },
    {
     "cell_type": "code",
     "collapsed": false,
     "input": [
      "statsMSA.head()"
     ],
     "language": "python",
     "metadata": {},
     "outputs": [
      {
       "html": [
        "<div style=\"max-height:1000px;max-width:1500px;overflow:auto;\">\n",
        "<table border=\"1\" class=\"dataframe\">\n",
        "  <thead>\n",
        "    <tr style=\"text-align: right;\">\n",
        "      <th></th>\n",
        "      <th>Total Carbon</th>\n",
        "      <th>Population</th>\n",
        "      <th>MSA/ CMSA Code</th>\n",
        "      <th>Area Name</th>\n",
        "      <th>Census Population</th>\n",
        "      <th>TotalArea</th>\n",
        "    </tr>\n",
        "  </thead>\n",
        "  <tbody>\n",
        "    <tr>\n",
        "      <th>0</th>\n",
        "      <td> 126560.02280</td>\n",
        "      <td> 126555</td>\n",
        "      <td> 0040</td>\n",
        "      <td>                   Abilene, TX MSA</td>\n",
        "      <td> 126555</td>\n",
        "      <td>  919.2518</td>\n",
        "    </tr>\n",
        "    <tr>\n",
        "      <th>1</th>\n",
        "      <td> 120836.11359</td>\n",
        "      <td> 120822</td>\n",
        "      <td> 0120</td>\n",
        "      <td>                    Albany, GA MSA</td>\n",
        "      <td> 120822</td>\n",
        "      <td>  696.6477</td>\n",
        "    </tr>\n",
        "    <tr>\n",
        "      <th>2</th>\n",
        "      <td> 875615.03129</td>\n",
        "      <td> 875583</td>\n",
        "      <td> 0160</td>\n",
        "      <td> Albany--Schenectady--Troy, NY MSA</td>\n",
        "      <td> 875583</td>\n",
        "      <td> 3288.6160</td>\n",
        "    </tr>\n",
        "    <tr>\n",
        "      <th>3</th>\n",
        "      <td> 712752.50254</td>\n",
        "      <td> 712738</td>\n",
        "      <td> 0200</td>\n",
        "      <td>               Albuquerque, NM MSA</td>\n",
        "      <td> 712738</td>\n",
        "      <td> 5951.1810</td>\n",
        "    </tr>\n",
        "    <tr>\n",
        "      <th>4</th>\n",
        "      <td> 126350.35660</td>\n",
        "      <td> 126337</td>\n",
        "      <td> 0220</td>\n",
        "      <td>                Alexandria, LA MSA</td>\n",
        "      <td> 126337</td>\n",
        "      <td> 1361.9620</td>\n",
        "    </tr>\n",
        "  </tbody>\n",
        "</table>\n",
        "</div>"
       ],
       "metadata": {},
       "output_type": "pyout",
       "prompt_number": 11,
       "text": [
        "   Total Carbon  Population MSA/ CMSA Code                          Area Name  \\\n",
        "0  126560.02280      126555           0040                    Abilene, TX MSA   \n",
        "1  120836.11359      120822           0120                     Albany, GA MSA   \n",
        "2  875615.03129      875583           0160  Albany--Schenectady--Troy, NY MSA   \n",
        "3  712752.50254      712738           0200                Albuquerque, NM MSA   \n",
        "4  126350.35660      126337           0220                 Alexandria, LA MSA   \n",
        "\n",
        "   Census Population  TotalArea  \n",
        "0             126555   919.2518  \n",
        "1             120822   696.6477  \n",
        "2             875583  3288.6160  \n",
        "3             712738  5951.1810  \n",
        "4             126337  1361.9620  "
       ]
      }
     ],
     "prompt_number": 11
    },
    {
     "cell_type": "code",
     "collapsed": false,
     "input": [
      "statsMSA['Population Density'] = statsMSA['Population'] / statsMSA['TotalArea']\n",
      "# from million tons of carbon to tons of carbon\n",
      "statsMSA['Total Carbon Tonnes'] = statsMSA['Total Carbon'] * 1e6\n",
      "statsMSA['Carbon Per Capita'] = statsMSA['Total Carbon'] / statsMSA['Population']\n",
      "# computing logs"
     ],
     "language": "python",
     "metadata": {},
     "outputs": [],
     "prompt_number": 12
    },
    {
     "cell_type": "code",
     "collapsed": false,
     "input": [
      "statsMSA.head()"
     ],
     "language": "python",
     "metadata": {},
     "outputs": [
      {
       "html": [
        "<div style=\"max-height:1000px;max-width:1500px;overflow:auto;\">\n",
        "<table border=\"1\" class=\"dataframe\">\n",
        "  <thead>\n",
        "    <tr style=\"text-align: right;\">\n",
        "      <th></th>\n",
        "      <th>Total Carbon</th>\n",
        "      <th>Population</th>\n",
        "      <th>MSA/ CMSA Code</th>\n",
        "      <th>Area Name</th>\n",
        "      <th>Census Population</th>\n",
        "      <th>TotalArea</th>\n",
        "      <th>Population Density</th>\n",
        "      <th>Total Carbon Tonnes</th>\n",
        "      <th>Carbon Per Capita</th>\n",
        "    </tr>\n",
        "  </thead>\n",
        "  <tbody>\n",
        "    <tr>\n",
        "      <th>0</th>\n",
        "      <td> 126560.02280</td>\n",
        "      <td> 126555</td>\n",
        "      <td> 0040</td>\n",
        "      <td>                   Abilene, TX MSA</td>\n",
        "      <td> 126555</td>\n",
        "      <td>  919.2518</td>\n",
        "      <td> 137.671746</td>\n",
        "      <td> 1.265600e+11</td>\n",
        "      <td> 1.000040</td>\n",
        "    </tr>\n",
        "    <tr>\n",
        "      <th>1</th>\n",
        "      <td> 120836.11359</td>\n",
        "      <td> 120822</td>\n",
        "      <td> 0120</td>\n",
        "      <td>                    Albany, GA MSA</td>\n",
        "      <td> 120822</td>\n",
        "      <td>  696.6477</td>\n",
        "      <td> 173.433430</td>\n",
        "      <td> 1.208361e+11</td>\n",
        "      <td> 1.000117</td>\n",
        "    </tr>\n",
        "    <tr>\n",
        "      <th>2</th>\n",
        "      <td> 875615.03129</td>\n",
        "      <td> 875583</td>\n",
        "      <td> 0160</td>\n",
        "      <td> Albany--Schenectady--Troy, NY MSA</td>\n",
        "      <td> 875583</td>\n",
        "      <td> 3288.6160</td>\n",
        "      <td> 266.246652</td>\n",
        "      <td> 8.756150e+11</td>\n",
        "      <td> 1.000037</td>\n",
        "    </tr>\n",
        "    <tr>\n",
        "      <th>3</th>\n",
        "      <td> 712752.50254</td>\n",
        "      <td> 712738</td>\n",
        "      <td> 0200</td>\n",
        "      <td>               Albuquerque, NM MSA</td>\n",
        "      <td> 712738</td>\n",
        "      <td> 5951.1810</td>\n",
        "      <td> 119.764127</td>\n",
        "      <td> 7.127525e+11</td>\n",
        "      <td> 1.000020</td>\n",
        "    </tr>\n",
        "    <tr>\n",
        "      <th>4</th>\n",
        "      <td> 126350.35660</td>\n",
        "      <td> 126337</td>\n",
        "      <td> 0220</td>\n",
        "      <td>                Alexandria, LA MSA</td>\n",
        "      <td> 126337</td>\n",
        "      <td> 1361.9620</td>\n",
        "      <td>  92.761032</td>\n",
        "      <td> 1.263504e+11</td>\n",
        "      <td> 1.000106</td>\n",
        "    </tr>\n",
        "  </tbody>\n",
        "</table>\n",
        "</div>"
       ],
       "metadata": {},
       "output_type": "pyout",
       "prompt_number": 13,
       "text": [
        "   Total Carbon  Population MSA/ CMSA Code                          Area Name  \\\n",
        "0  126560.02280      126555           0040                    Abilene, TX MSA   \n",
        "1  120836.11359      120822           0120                     Albany, GA MSA   \n",
        "2  875615.03129      875583           0160  Albany--Schenectady--Troy, NY MSA   \n",
        "3  712752.50254      712738           0200                Albuquerque, NM MSA   \n",
        "4  126350.35660      126337           0220                 Alexandria, LA MSA   \n",
        "\n",
        "   Census Population  TotalArea  Population Density  Total Carbon Tonnes  \\\n",
        "0             126555   919.2518          137.671746         1.265600e+11   \n",
        "1             120822   696.6477          173.433430         1.208361e+11   \n",
        "2             875583  3288.6160          266.246652         8.756150e+11   \n",
        "3             712738  5951.1810          119.764127         7.127525e+11   \n",
        "4             126337  1361.9620           92.761032         1.263504e+11   \n",
        "\n",
        "   Carbon Per Capita  \n",
        "0           1.000040  \n",
        "1           1.000117  \n",
        "2           1.000037  \n",
        "3           1.000020  \n",
        "4           1.000106  "
       ]
      }
     ],
     "prompt_number": 13
    },
    {
     "cell_type": "code",
     "collapsed": false,
     "input": [],
     "language": "python",
     "metadata": {},
     "outputs": [],
     "prompt_number": 14
    }
   ],
   "metadata": {}
  }
 ]
}